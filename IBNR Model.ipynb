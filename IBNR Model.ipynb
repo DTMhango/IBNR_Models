{
 "cells": [
  {
   "cell_type": "markdown",
   "metadata": {},
   "source": [
    "# SIMPLE AND QUICK IBNR CALCULATIONS IN PYTHON USING CL LIBRARY"
   ]
  },
  {
   "cell_type": "code",
   "execution_count": null,
   "metadata": {},
   "outputs": [],
   "source": [
    "import numpy as np\n",
    "import pandas as pd\n",
    "import chainladder as cl\n",
    "import matplotlib.pyplot as plt\n",
    "%matplotlib inline"
   ]
  },
  {
   "cell_type": "markdown",
   "metadata": {},
   "source": [
    "Import claims data. This example uses claims paid data. The dates in the csv file originally came from a Microsoft Excel file. As such, there is a subtraction of 2 days in order to obtain correct date information - see <a href = 'https://www.google.com/url?sa=t&rct=j&q=&esrc=s&source=web&cd=&cad=rja&uact=8&ved=2ahUKEwjLytv2lqyBAxU8TEEAHVz0DOYQFnoECA0QAw&url=https%3A%2F%2Fen.wikipedia.org%2Fwiki%2FLeap_year_problem%23%3A~%3Atext%3DOccurrences%2C-See%2520also%253A%2520Year%26text%3DMicrosoft%2520Excel%2520has%252C%2520since%2520its%2Cthe%2520purpose%2520of%2520backward%2520compatibility.&usg=AOvVaw1nf4EsIyXXEVS_BNUu2qkR&opi=89978449'>Excel Leap Year Bug</a>"
   ]
  },
  {
   "cell_type": "code",
   "execution_count": null,
   "metadata": {},
   "outputs": [],
   "source": [
    "data = pd.read_csv('Claims Data.csv')\n",
    "\n",
    "for col in list(data.columns):\n",
    "    if 'Unnamed' in col:\n",
    "        data = data.drop(col, axis = 1)\n",
    "        \n",
    "origin = np.datetime64('1900-01-01', 'D')\n",
    "\n",
    "data['MAIN CLASS'] = data['MAIN CLASS'].astype(str)\n",
    "\n",
    "data['LOSS DATE'] = data['LOSS DATE'] - 2\n",
    "data['LOSS DATE'] = origin + np.array(data['LOSS DATE'], dtype= 'timedelta64[D]')\n",
    "\n",
    "data['PAID DATE'] = data['PAID DATE'] - 2\n",
    "data['PAID DATE'] = origin + np.array(data['PAID DATE'], dtype = 'timedelta64[D]')\n",
    "\n",
    "data = data[data[\"LOSS DATE\"] > '2016-06-30']\n",
    "\n",
    "# subset dataframes by Class\n",
    "# ['GMS', 'MEDICAL', 'MOTOR', 'GPA', 'EN', 'LIA', 'MIS', 'PTY', 'TRN', 'TRAVEL EASY INSURANCE']\n",
    "\n",
    "classes_of_business = data['MAIN CLASS'].unique()\n",
    "df_dict = {classes_of_business[i]: data[data['MAIN CLASS'] == classes_of_business[i]] for i in range(len(classes_of_business))}\n",
    "\n",
    "# subset dataframes allow for extraction of individual class data for easier analysis with pandas if the need arises. "
   ]
  },
  {
   "cell_type": "markdown",
   "metadata": {},
   "source": [
    "Create Gross and Net triangles. This can be done in a single block of code by providing a list ['GROSS AMOUNT', 'NET AMOUNT'], to the columns parameter. The code below spilts this for more granular analysis when referencing individual classes and the triangulation approach to be taken. cumulative parameter can be set to True from the onset to obtain cumulative triangles without the need for the incr_to_cum() method. However, this has not been done in order to allow for visibility of incremental triangles. OYDM grain has been selected to illustrate traigulation with Origin Year and Monthly Development. "
   ]
  },
  {
   "cell_type": "code",
   "execution_count": null,
   "metadata": {},
   "outputs": [],
   "source": [
    "all_gross_triangles = {cob: cl.Triangle(\n",
    "        data = df_dict[cob],\n",
    "        origin = 'LOSS DATE',\n",
    "        development = 'PAID DATE',\n",
    "        columns = 'GROSS AMOUNT',\n",
    "        cumulative = False\n",
    "    ) for cob in classes_of_business }\n",
    "\n",
    "all_net_triangles = {cob: cl.Triangle(\n",
    "        data = df_dict[cob],\n",
    "        origin = 'LOSS DATE',\n",
    "        development = 'PAID DATE',\n",
    "        columns = 'NET AMOUNT',\n",
    "        cumulative = False\n",
    "    ) for cob in classes_of_business }\n",
    "\n",
    "my_classes = [\"MOTOR\", \"LIA\", \"GPA\", \"GMS\", \"MY CARE\"]\n",
    "for cob in all_gross_triangles.keys():\n",
    "    if cob in my_classes:\n",
    "        cl_triangle = all_gross_triangles[cob].grain('OYDM')\n",
    "        cl_triangle = cl_triangle.incr_to_cum()\n",
    "        tri_df = cl_triangle.to_frame()\n",
    "        tri_df.to_csv(f\"Gross Triangles/{cob}_OYDM_gross_triangle.csv\", index = True)\n",
    "\n",
    "for cob in all_net_triangles.keys():\n",
    "    if cob in my_classes:\n",
    "        cl_triangle = all_net_triangles[cob].grain('OYDM')\n",
    "        cl_triangle = cl_triangle.incr_to_cum()\n",
    "        tri_df = cl_triangle.to_frame()\n",
    "        tri_df.to_csv(f\"Net Triangles/{cob}_OYDM_net_triangle.csv\", index = True)\n"
   ]
  },
  {
   "cell_type": "markdown",
   "metadata": {},
   "source": [
    "We illustrate analysis of the motor class below. The triangle grain has been changed to OYDY for the below to demonstrate quick and flexible transition between triangle grains provided by the CL library."
   ]
  },
  {
   "cell_type": "code",
   "execution_count": null,
   "metadata": {},
   "outputs": [],
   "source": [
    "motor = all_net_triangles['MOTOR'].grain('OYDY')\n",
    "motor = motor.incr_to_cum()\n",
    "motor.link_ratio"
   ]
  },
  {
   "cell_type": "markdown",
   "metadata": {},
   "source": [
    "The IBNR follows simply by the below code. The library offers Bornhuetter-Ferguson, Cape-Cop and Mack Chainladder options among others for the IBNR fit. These require their own additional inputs (premiums and loss ratios) to produce results. The initial dataset was paid claims data and therefore the IBNR numbers resulting from the below code will be IBNR + IBNER. It is the individual's responsibility to account for case reserves to obtain the pure IBNR."
   ]
  },
  {
   "cell_type": "code",
   "execution_count": null,
   "metadata": {},
   "outputs": [],
   "source": [
    "motor = cl.Chainladder().fit(motor)\n",
    "motor_reserve = motor.ibnr_\n",
    "motor_reserve"
   ]
  }
 ],
 "metadata": {
  "kernelspec": {
   "display_name": "Python 3",
   "language": "python",
   "name": "python3"
  },
  "language_info": {
   "codemirror_mode": {
    "name": "ipython",
    "version": 3
   },
   "file_extension": ".py",
   "mimetype": "text/x-python",
   "name": "python",
   "nbconvert_exporter": "python",
   "pygments_lexer": "ipython3",
   "version": "3.10.9"
  },
  "orig_nbformat": 4
 },
 "nbformat": 4,
 "nbformat_minor": 2
}
